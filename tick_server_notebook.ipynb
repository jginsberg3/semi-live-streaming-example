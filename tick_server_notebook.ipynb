{
 "cells": [
  {
   "cell_type": "markdown",
   "metadata": {},
   "source": [
    "Tutorial Here: https://www.youtube.com/watch?v=ObnDarg9CAU&t=1110s"
   ]
  },
  {
   "cell_type": "code",
   "execution_count": null,
   "metadata": {},
   "outputs": [],
   "source": [
    "import zmq\n",
    "import time\n",
    "import random"
   ]
  },
  {
   "cell_type": "code",
   "execution_count": null,
   "metadata": {},
   "outputs": [],
   "source": [
    "context = zmq.Context()"
   ]
  },
  {
   "cell_type": "code",
   "execution_count": null,
   "metadata": {},
   "outputs": [],
   "source": [
    "socket = context.socket(zmq.PUB)\n",
    "socket.bind('tcp://0.0.0.0:5555')"
   ]
  },
  {
   "cell_type": "code",
   "execution_count": null,
   "metadata": {},
   "outputs": [],
   "source": [
    "AMZN = 100."
   ]
  },
  {
   "cell_type": "code",
   "execution_count": null,
   "metadata": {},
   "outputs": [],
   "source": [
    "while True:\n",
    "    AMZN += random.gauss(0,1) * 0.5\n",
    "    msg = 'AMZN {}'.format(AMZN)\n",
    "    socket.send_string(msg)\n",
    "    print(msg)\n",
    "    time.sleep(random.random() * 2)"
   ]
  },
  {
   "cell_type": "code",
   "execution_count": null,
   "metadata": {},
   "outputs": [],
   "source": [
    "# test version that writes to a true_log file for testing\n",
    "while True:\n",
    "    AMZN += random.gauss(0,1) * 0.5\n",
    "    msg = 'AMZN {}'.format(AMZN)\n",
    "    socket.send_string(msg)\n",
    "    print(msg)\n",
    "    with open('true_log.txt', 'a') as f:\n",
    "        f.write(msg)\n",
    "        f.write('\\n')\n",
    "    time.sleep(random.random() * 2)"
   ]
  },
  {
   "cell_type": "code",
   "execution_count": null,
   "metadata": {},
   "outputs": [],
   "source": []
  }
 ],
 "metadata": {
  "kernelspec": {
   "display_name": "Python zmq-env",
   "language": "python",
   "name": "zmq-env"
  },
  "language_info": {
   "codemirror_mode": {
    "name": "ipython",
    "version": 3
   },
   "file_extension": ".py",
   "mimetype": "text/x-python",
   "name": "python",
   "nbconvert_exporter": "python",
   "pygments_lexer": "ipython3",
   "version": "3.7.0"
  }
 },
 "nbformat": 4,
 "nbformat_minor": 2
}
