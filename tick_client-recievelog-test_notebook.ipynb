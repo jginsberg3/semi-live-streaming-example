{
 "cells": [
  {
   "cell_type": "code",
   "execution_count": null,
   "metadata": {
    "slideshow": {
     "slide_type": "-"
    }
   },
   "outputs": [],
   "source": [
    "import zmq\n",
    "import datetime"
   ]
  },
  {
   "cell_type": "code",
   "execution_count": null,
   "metadata": {},
   "outputs": [],
   "source": [
    "context = zmq.Context()"
   ]
  },
  {
   "cell_type": "code",
   "execution_count": null,
   "metadata": {},
   "outputs": [],
   "source": [
    "socket = context.socket(zmq.SUB)\n",
    "socket.connect('tcp://0.0.0.0:5555')\n",
    "socket.setsockopt_string(zmq.SUBSCRIBE, '')"
   ]
  },
  {
   "cell_type": "code",
   "execution_count": null,
   "metadata": {},
   "outputs": [],
   "source": [
    "file_a = \"log_a.txt\"\n",
    "file_b = \"log_b.txt\""
   ]
  },
  {
   "cell_type": "code",
   "execution_count": null,
   "metadata": {},
   "outputs": [],
   "source": [
    "while True:\n",
    "    msg = socket.recv_string()\n",
    "    t = datetime.datetime.now()\n",
    "    log = str(t) + '|' + msg\n",
    "    \n",
    "    # rotate the logs on odd/even numbered minutes\n",
    "    if datetime.datetime.now().minute % 2 == 0:\n",
    "        with open(file_a, \"a\") as f:\n",
    "            f.write(log)\n",
    "            f.write(\"\\n\")\n",
    "\n",
    "    else:\n",
    "        with open(file_b, \"a\") as f:\n",
    "            f.write(log)\n",
    "            f.write(\"\\n\")"
   ]
  },
  {
   "cell_type": "code",
   "execution_count": null,
   "metadata": {},
   "outputs": [],
   "source": []
  }
 ],
 "metadata": {
  "kernelspec": {
   "display_name": "Python zmq-env",
   "language": "python",
   "name": "zmq-env"
  },
  "language_info": {
   "codemirror_mode": {
    "name": "ipython",
    "version": 3
   },
   "file_extension": ".py",
   "mimetype": "text/x-python",
   "name": "python",
   "nbconvert_exporter": "python",
   "pygments_lexer": "ipython3",
   "version": "3.7.0"
  }
 },
 "nbformat": 4,
 "nbformat_minor": 2
}
