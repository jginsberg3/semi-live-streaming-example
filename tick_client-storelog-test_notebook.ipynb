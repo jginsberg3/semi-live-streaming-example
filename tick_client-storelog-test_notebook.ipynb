{
 "cells": [
  {
   "cell_type": "code",
   "execution_count": null,
   "metadata": {},
   "outputs": [],
   "source": [
    "import sqlite3\n",
    "import time\n",
    "import datetime"
   ]
  },
  {
   "cell_type": "code",
   "execution_count": null,
   "metadata": {},
   "outputs": [],
   "source": [
    "DB_NAME = \"db.sqlite\"\n",
    "file_a = \"log_a.txt\"\n",
    "file_b = \"log_b.txt\"\n",
    "\n",
    "conn = sqlite3.connect(DB_NAME)\n",
    "\n",
    "conn.execute(\"\"\"\n",
    "CREATE TABLE IF NOT EXISTS logs (\n",
    "  time DATETIME,\n",
    "  ticker TEXT\n",
    "  )\n",
    "\"\"\")\n",
    "conn.close()"
   ]
  },
  {
   "cell_type": "code",
   "execution_count": null,
   "metadata": {},
   "outputs": [],
   "source": [
    "def write_logfile_to_db(logfile):\n",
    "    with open(logfile, \"r\") as f:\n",
    "        conn = sqlite3.connect(DB_NAME)\n",
    "\n",
    "        for log in f.readlines():\n",
    "            _log = log.strip()\n",
    "            cur = conn.cursor()\n",
    "            cur.execute('INSERT INTO logs VALUES (?,?)', log.split('|'))\n",
    "\n",
    "        conn.commit()\n",
    "        conn.close()"
   ]
  },
  {
   "cell_type": "code",
   "execution_count": null,
   "metadata": {},
   "outputs": [],
   "source": [
    "def clear_logfile(logfile):\n",
    "    with open(logfile, \"w+\") as f:\n",
    "        f.write(\"\")"
   ]
  },
  {
   "cell_type": "code",
   "execution_count": null,
   "metadata": {},
   "outputs": [],
   "source": [
    "def wait_for_next_minute():\n",
    "    secs = datetime.datetime.utcnow().second\n",
    "    while secs < 57:\n",
    "        time.sleep(57 - secs)\n",
    "        secs = datetime.datetime.utcnow().second\n",
    "    while datetime.datetime.utcnow().second >= 57:\n",
    "        time.sleep(1)"
   ]
  },
  {
   "cell_type": "code",
   "execution_count": null,
   "metadata": {},
   "outputs": [],
   "source": [
    "while True:\n",
    "    \n",
    "    secs = datetime.datetime.utcnow().second\n",
    "    \n",
    "    # if it's a long way to the next minute, sleep for a while\n",
    "    while secs < 57:\n",
    "        time.sleep(57 - secs)\n",
    "        secs = datetime.datetime.utcnow().second\n",
    "    \n",
    "    # if it's close to the next minute, write and clear the logs\n",
    "    while datetime.datetime.utcnow().second >= 57:\n",
    "    \n",
    "        if datetime.datetime.now().minute % 2 == 0:\n",
    "            write_logfile_to_db(file_b)\n",
    "            clear_logfile(file_b)\n",
    "            wait_for_next_minute()\n",
    "\n",
    "        else:\n",
    "            write_logfile_to_db(file_a)\n",
    "            clear_logfile(file_a)\n",
    "            wait_for_next_minute()"
   ]
  },
  {
   "cell_type": "code",
   "execution_count": null,
   "metadata": {},
   "outputs": [],
   "source": []
  }
 ],
 "metadata": {
  "kernelspec": {
   "display_name": "Python zmq-env",
   "language": "python",
   "name": "zmq-env"
  },
  "language_info": {
   "codemirror_mode": {
    "name": "ipython",
    "version": 3
   },
   "file_extension": ".py",
   "mimetype": "text/x-python",
   "name": "python",
   "nbconvert_exporter": "python",
   "pygments_lexer": "ipython3",
   "version": "3.7.0"
  }
 },
 "nbformat": 4,
 "nbformat_minor": 2
}
